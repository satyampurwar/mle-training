{
 "cells": [
  {
   "cell_type": "code",
   "execution_count": 1,
   "id": "768564ff",
   "metadata": {},
   "outputs": [],
   "source": [
    "import pandas as pd\n",
    "import pickle"
   ]
  },
  {
   "cell_type": "code",
   "execution_count": 2,
   "id": "115add13",
   "metadata": {},
   "outputs": [],
   "source": [
    "strat_test_set = pd.read_csv(filepath_or_buffer='../../data/processed/test.csv')"
   ]
  },
  {
   "cell_type": "code",
   "execution_count": 3,
   "id": "49b3ee0a",
   "metadata": {},
   "outputs": [],
   "source": [
    "X_test = strat_test_set.drop(\"median_house_value\", axis=1)\n",
    "y_test = strat_test_set[\"median_house_value\"].copy()"
   ]
  },
  {
   "cell_type": "code",
   "execution_count": 4,
   "id": "83f6cfb2",
   "metadata": {},
   "outputs": [],
   "source": [
    "X_test_num = X_test.drop(\"ocean_proximity\", axis=1)\n",
    "file = open('../../artifacts/imputer.pkl','rb')\n",
    "imputer = pickle.load(file)\n",
    "X_test_prepared = imputer.transform(X_test_num)\n",
    "X_test_prepared = pd.DataFrame(\n",
    "    X_test_prepared, columns=X_test_num.columns, index=X_test.index\n",
    ")\n",
    "X_test_prepared[\"rooms_per_household\"] = (\n",
    "    X_test_prepared[\"total_rooms\"] / X_test_prepared[\"households\"]\n",
    ")\n",
    "X_test_prepared[\"bedrooms_per_room\"] = (\n",
    "    X_test_prepared[\"total_bedrooms\"] / X_test_prepared[\"total_rooms\"]\n",
    ")\n",
    "X_test_prepared[\"population_per_household\"] = (\n",
    "    X_test_prepared[\"population\"] / X_test_prepared[\"households\"]\n",
    ")\n",
    "\n",
    "X_test_cat = X_test[[\"ocean_proximity\"]]\n",
    "X_test_prepared = X_test_prepared.join(pd.get_dummies(X_test_cat, drop_first=True))"
   ]
  },
  {
   "cell_type": "code",
   "execution_count": 5,
   "id": "afeaf023",
   "metadata": {},
   "outputs": [],
   "source": [
    "file = open('../../artifacts/final_model.pkl','rb')\n",
    "final_model = pickle.load(file)\n",
    "final_predictions = final_model.predict(X_test_prepared)"
   ]
  },
  {
   "cell_type": "code",
   "execution_count": 6,
   "id": "74c0d908",
   "metadata": {},
   "outputs": [],
   "source": [
    "output = pd.DataFrame()\n",
    "output['Actual'] = y_test\n",
    "output['Prediction'] = final_predictions \n",
    "output.to_csv(path_or_buf='../../data/processed/output.csv',index=False)"
   ]
  },
  {
   "cell_type": "code",
   "execution_count": null,
   "id": "d3bcc58c",
   "metadata": {},
   "outputs": [],
   "source": []
  }
 ],
 "metadata": {
  "kernelspec": {
   "display_name": "Python 3 (ipykernel)",
   "language": "python",
   "name": "python3"
  },
  "language_info": {
   "codemirror_mode": {
    "name": "ipython",
    "version": 3
   },
   "file_extension": ".py",
   "mimetype": "text/x-python",
   "name": "python",
   "nbconvert_exporter": "python",
   "pygments_lexer": "ipython3",
   "version": "3.9.5"
  }
 },
 "nbformat": 4,
 "nbformat_minor": 5
}
